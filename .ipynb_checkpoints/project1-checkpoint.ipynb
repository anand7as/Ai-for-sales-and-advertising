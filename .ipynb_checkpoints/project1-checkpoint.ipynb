{
 "cells": [
  {
   "cell_type": "code",
   "execution_count": 1,
   "id": "fda7de97-2736-492a-99da-18436b9472fc",
   "metadata": {},
   "outputs": [],
   "source": [
    "import numpy as np\n",
    "import matplotlib.pyplot as plt\n",
    "import random"
   ]
  },
  {
   "cell_type": "code",
   "execution_count": 2,
   "id": "61c9afa0-0f59-46df-8030-cce2fa71144e",
   "metadata": {},
   "outputs": [],
   "source": [
    "N=10000\n",
    "d=9\n"
   ]
  },
  {
   "cell_type": "code",
   "execution_count": 4,
   "id": "d5443e83-90a3-43e2-8399-fa08e487f511",
   "metadata": {},
   "outputs": [],
   "source": [
    "# building environment inside a simulation\n",
    "conversion_rates=[0.05,0.13,0.09,0.16,0.11,0.04,0.20,0.08,0.01] #only for our knowledge , TM doesnt requires this\n",
    "x=np.array(np.zeros([N,d])) # matrix of N customers and d strategies\n",
    "\n",
    "for i in range(0,N):\n",
    "           for j in range(0,d):\n",
    "               if np.random.rand()<=conversion_rates[j]:\n",
    "                   x[i,j]=1     "
   ]
  },
  {
   "cell_type": "code",
   "execution_count": 11,
   "id": "8125fe55-1166-452b-b92c-d2aceaf7ba73",
   "metadata": {},
   "outputs": [],
   "source": [
    "ad_selected_rs=[]\n",
    "ad_selected_ts=[]\n",
    "n_1=[0]*d\n",
    "n_0=[0]*d\n",
    "\n",
    "total_reward_rs=0\n",
    "total_reward_ts=0"
   ]
  },
  {
   "cell_type": "code",
   "execution_count": 13,
   "id": "b1db1e5f-9f8b-4c75-9ec4-b7a2cddc4b56",
   "metadata": {},
   "outputs": [],
   "source": [
    "for n in range(0,N):\n",
    "    ad=0;\n",
    "    max_random=0\n",
    "    for k in range(0,d):\n",
    "        random_beta=random.betavariate(n_1[k]+1,n_0[k]+1)\n",
    "        if(random_beta>max_random):\n",
    "            max_random=random_beta\n",
    "            ad=k\n",
    "    ad_selected_ts.append(ad)\n",
    "    reward=x[n,ad]\n",
    "    if reward==1:\n",
    "          n_1[ad]=n_1[ad]+1\n",
    "    else:\n",
    "          n_0[ad]=n_0[ad]+1\n",
    "      \n",
    "    total_reward_ts+=reward \n",
    "          \n"
   ]
  },
  {
   "cell_type": "code",
   "execution_count": 14,
   "id": "61b5d0f0-4b55-405a-9f4c-11c16b922bcc",
   "metadata": {},
   "outputs": [
    {
     "data": {
      "text/plain": [
       "(array([  56.,   76.,   58.,  773.,    0.,  281.,   80., 8545.,   93.,\n",
       "          39.]),\n",
       " array([0. , 0.8, 1.6, 2.4, 3.2, 4. , 4.8, 5.6, 6.4, 7.2, 8. ]),\n",
       " <BarContainer object of 10 artists>)"
      ]
     },
     "execution_count": 14,
     "metadata": {},
     "output_type": "execute_result"
    },
    {
     "data": {
      "image/png": "[encoded data removed]",
      "text/plain": [
       "<Figure size 640x480 with 1 Axes>"
      ]
     },
     "metadata": {},
     "output_type": "display_data"
    }
   ],
   "source": [
    "plt.hist(ad_selected_ts)"
   ]
  },
  {
   "cell_type": "code",
   "execution_count": null,
   "id": "b0cb174f-fe13-4c5f-990f-5647d7409bb5",
   "metadata": {},
   "outputs": [],
   "source": []
  }
 ],
 "metadata": {
  "kernelspec": {
   "display_name": "Python 3 (ipykernel)",
   "language": "python",
   "name": "python3"
  },
  "language_info": {
   "codemirror_mode": {
    "name": "ipython",
    "version": 3
   },
   "file_extension": ".py",
   "mimetype": "text/x-python",
   "name": "python",
   "nbconvert_exporter": "python",
   "pygments_lexer": "ipython3",
   "version": "3.10.12"
  }
 },
 "nbformat": 4,
 "nbformat_minor": 5
}
